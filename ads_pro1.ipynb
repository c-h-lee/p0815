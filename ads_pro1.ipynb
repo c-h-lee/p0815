{
 "cells": [
  {
   "cell_type": "code",
   "execution_count": 1,
   "metadata": {},
   "outputs": [],
   "source": [
    "import pandas as pd\n",
    "import numpy as np\n",
    "import seaborn as sns\n",
    "import matplotlib.pyplot as plt\n",
    "import warnings\n",
    "warnings.filterwarnings(\"ignore\")"
   ]
  },
  {
   "cell_type": "code",
   "execution_count": 2,
   "metadata": {},
   "outputs": [
    {
     "name": "stdout",
     "output_type": "stream",
     "text": [
      "   VendorID tpep_pickup_datetime tpep_dropoff_datetime  passenger_count  \\\n",
      "0       1.0  2019-09-01 00:06:48   2019-09-01 00:25:46              1.0   \n",
      "1       1.0  2019-09-01 00:29:17   2019-09-01 00:57:54              1.0   \n",
      "2       1.0  2019-09-01 00:41:32   2019-09-01 00:41:36              1.0   \n",
      "3       1.0  2019-09-01 00:59:11   2019-09-01 00:59:15              1.0   \n",
      "4       1.0  2019-09-01 00:39:41   2019-09-01 00:45:06              1.0   \n",
      "\n",
      "   trip_distance  RatecodeID store_and_fwd_flag  PULocationID  DOLocationID  \\\n",
      "0            2.0         1.0                  N           186           161   \n",
      "1            5.5         1.0                  N           161           256   \n",
      "2            2.9         1.0                  N           145           145   \n",
      "3            0.0         1.0                  N           145           145   \n",
      "4            1.5         1.0                  N            95            93   \n",
      "\n",
      "   payment_type  fare_amount  extra  mta_tax  tip_amount  tolls_amount  \\\n",
      "0           2.0         13.0    3.0      0.5         0.0           0.0   \n",
      "1           2.0         22.5    3.0      0.5         0.0           0.0   \n",
      "2           2.0          2.5    0.5      0.5         0.0           0.0   \n",
      "3           2.0          2.5    0.5      0.5         0.0           0.0   \n",
      "4           2.0          7.0    0.5      0.5         0.0           0.0   \n",
      "\n",
      "   improvement_surcharge  total_amount  congestion_surcharge  \n",
      "0                    0.3          16.8                   2.5  \n",
      "1                    0.3          26.3                   2.5  \n",
      "2                    0.3           3.8                   0.0  \n",
      "3                    0.3           3.8                   0.0  \n",
      "4                    0.3           8.3                   0.0  \n"
     ]
    },
    {
     "data": {
      "text/plain": [
       "VendorID                 0\n",
       "tpep_pickup_datetime     0\n",
       "tpep_dropoff_datetime    0\n",
       "passenger_count          0\n",
       "trip_distance            0\n",
       "RatecodeID               0\n",
       "store_and_fwd_flag       0\n",
       "PULocationID             0\n",
       "DOLocationID             0\n",
       "payment_type             0\n",
       "fare_amount              0\n",
       "extra                    0\n",
       "mta_tax                  0\n",
       "tip_amount               0\n",
       "tolls_amount             0\n",
       "improvement_surcharge    0\n",
       "total_amount             0\n",
       "congestion_surcharge     0\n",
       "dtype: int64"
      ]
     },
     "execution_count": 2,
     "metadata": {},
     "output_type": "execute_result"
    }
   ],
   "source": [
    "yellow19_09 = pd.read_csv(\"C:/Users/ellicng/Desktop/Kexin_Taxi/yellow_tripdata_2019-09.csv\")\n",
    "print(yellow19_09.head())\n",
    "yellow19_09 = yellow19_09.dropna(axis = 0)\n",
    "yellow19_09.isnull().sum()"
   ]
  },
  {
   "cell_type": "code",
   "execution_count": 3,
   "metadata": {},
   "outputs": [],
   "source": [
    "cleaned_yellow19_09 = yellow19_09.loc[(yellow19_09[\"passenger_count\"] >= 0) & \n",
    "                                      (yellow19_09[\"trip_distance\"]!= 0) & (yellow19_09['fare_amount'] >= 2.5) & \n",
    "                                      (yellow19_09['total_amount'] >= 2.5) & (yellow19_09['payment_type']==1) &\n",
    "                                      (yellow19_09[\"tpep_dropoff_datetime\"] >\"2019-09-01 00:00:00\") & \n",
    "                                      (yellow19_09[\"tpep_dropoff_datetime\"] < \"2019-09-30 23:59:59\")\n",
    "                                     ]"
   ]
  },
  {
   "cell_type": "code",
   "execution_count": 4,
   "metadata": {},
   "outputs": [
    {
     "name": "stdout",
     "output_type": "stream",
     "text": [
      "    VendorID tpep_pickup_datetime tpep_dropoff_datetime  passenger_count  \\\n",
      "5        1.0  2019-09-01 00:00:08   2019-09-01 00:36:43              2.0   \n",
      "7        2.0  2019-09-01 00:17:23   2019-09-01 00:27:45              1.0   \n",
      "8        2.0  2019-09-01 00:36:12   2019-09-01 01:14:56              1.0   \n",
      "9        2.0  2019-09-01 00:10:45   2019-09-01 00:30:52              1.0   \n",
      "10       2.0  2019-09-01 00:16:23   2019-09-01 00:32:31              1.0   \n",
      "\n",
      "    trip_distance  RatecodeID store_and_fwd_flag  PULocationID  DOLocationID  \\\n",
      "5            8.30         1.0                  N           161           232   \n",
      "7            1.20         1.0                  N           137           186   \n",
      "8           11.17         1.0                  N            48            89   \n",
      "9            5.81         1.0                  N            24           107   \n",
      "10           4.71         1.0                  N           249           263   \n",
      "\n",
      "    payment_type  fare_amount  extra  mta_tax  tip_amount  tolls_amount  \\\n",
      "5            1.0         29.5    3.0      0.5        6.66           0.0   \n",
      "7            1.0          8.0    0.5      0.5        2.36           0.0   \n",
      "8            1.0         36.0    0.5      0.5        7.96           0.0   \n",
      "9            1.0         19.5    0.5      0.5        4.66           0.0   \n",
      "10           1.0         15.5    0.5      0.5        3.86           0.0   \n",
      "\n",
      "    improvement_surcharge  total_amount  congestion_surcharge  \n",
      "5                     0.3         39.96                   2.5  \n",
      "7                     0.3         14.16                   2.5  \n",
      "8                     0.3         47.76                   2.5  \n",
      "9                     0.3         27.96                   2.5  \n",
      "10                    0.3         23.16                   2.5  \n"
     ]
    }
   ],
   "source": [
    "choose = [\"passenger_count\", \"trip_distance\", \"payment_type\", \"fare_amount\", \"tip_amount\", \"total_amount\"]\n",
    "cleaned_df = cleaned_yellow19_09\n",
    "print(cleaned_df.head())"
   ]
  },
  {
   "cell_type": "code",
   "execution_count": 5,
   "metadata": {},
   "outputs": [
    {
     "data": {
      "image/png": "[encoded data removed]",
      "text/plain": [
       "<Figure size 432x288 with 1 Axes>"
      ]
     },
     "metadata": {
      "needs_background": "light"
     },
     "output_type": "display_data"
    }
   ],
   "source": [
    "dis_boxplot = cleaned_df.boxplot(column = \"trip_distance\", fontsize = 12)"
   ]
  },
  {
   "cell_type": "code",
   "execution_count": 6,
   "metadata": {},
   "outputs": [
    {
     "data": {
      "image/png": "[encoded data removed]",
      "text/plain": [
       "<Figure size 432x288 with 1 Axes>"
      ]
     },
     "metadata": {
      "needs_background": "light"
     },
     "output_type": "display_data"
    }
   ],
   "source": [
    "cleaned_df = cleaned_df.loc[cleaned_df[\"trip_distance\"] <= 200]\n",
    "dis_boxplot = cleaned_df.boxplot(column = \"trip_distance\", fontsize = 12)"
   ]
  },
  {
   "cell_type": "code",
   "execution_count": 7,
   "metadata": {},
   "outputs": [
    {
     "data": {
      "image/png": "[encoded data removed]",
      "text/plain": [
       "<Figure size 432x288 with 1 Axes>"
      ]
     },
     "metadata": {
      "needs_background": "light"
     },
     "output_type": "display_data"
    }
   ],
   "source": [
    "amount = [\"fare_amount\", \"tip_amount\", \"total_amount\"]\n",
    "amount_total_boxplot = cleaned_df.boxplot(column = amount, fontsize = 12)"
   ]
  },
  {
   "cell_type": "code",
   "execution_count": 8,
   "metadata": {},
   "outputs": [],
   "source": [
    "choose = [\"passenger_count\", \"trip_distance\", \"payment_type\", \"fare_amount\", \"tip_amount\", \"total_amount\"]\n",
    "cleaned_IQR = cleaned_df[choose]\n",
    "\n",
    "Q1 = np.quantile(cleaned_IQR, 0.25, interpolation = 'lower')\n",
    "Q3 = np.quantile(cleaned_IQR, 0.75, interpolation = 'higher')\n",
    "IQR = Q3 - Q1\n",
    "\n",
    "cleaned19 = cleaned_df[~(((Q1 - 6*IQR) > cleaned_IQR) | (cleaned_IQR > (Q3 + 5*IQR))).any(axis=1)]"
   ]
  },
  {
   "cell_type": "code",
   "execution_count": 9,
   "metadata": {},
   "outputs": [
    {
     "data": {
      "image/png": "[encoded data removed]",
      "text/plain": [
       "<Figure size 432x288 with 1 Axes>"
      ]
     },
     "metadata": {
      "needs_background": "light"
     },
     "output_type": "display_data"
    }
   ],
   "source": [
    "amount_boxplot = amount_total_boxplot = cleaned19.boxplot(column = amount, fontsize = 12)\n",
    "afig = amount_boxplot.get_figure()\n",
    "afig.suptitle(\"distribution of fees\")\n",
    "afig.show()\n",
    "afig.savefig(\"distribution of fees\")"
   ]
  },
  {
   "cell_type": "code",
   "execution_count": 10,
   "metadata": {},
   "outputs": [],
   "source": [
    "# feature engineering"
   ]
  },
  {
   "cell_type": "code",
   "execution_count": 11,
   "metadata": {},
   "outputs": [
    {
     "name": "stdout",
     "output_type": "stream",
     "text": [
      "    VendorID tpep_pickup_datetime tpep_dropoff_datetime  passenger_count  \\\n",
      "5        1.0  2019-09-01 00:00:08   2019-09-01 00:36:43              2.0   \n",
      "7        2.0  2019-09-01 00:17:23   2019-09-01 00:27:45              1.0   \n",
      "8        2.0  2019-09-01 00:36:12   2019-09-01 01:14:56              1.0   \n",
      "9        2.0  2019-09-01 00:10:45   2019-09-01 00:30:52              1.0   \n",
      "10       2.0  2019-09-01 00:16:23   2019-09-01 00:32:31              1.0   \n",
      "\n",
      "    trip_distance  RatecodeID store_and_fwd_flag  PULocationID  DOLocationID  \\\n",
      "5            8.30         1.0                  N           161           232   \n",
      "7            1.20         1.0                  N           137           186   \n",
      "8           11.17         1.0                  N            48            89   \n",
      "9            5.81         1.0                  N            24           107   \n",
      "10           4.71         1.0                  N           249           263   \n",
      "\n",
      "    payment_type  fare_amount  extra  mta_tax  tip_amount  tolls_amount  \\\n",
      "5            1.0         29.5    3.0      0.5        6.66           0.0   \n",
      "7            1.0          8.0    0.5      0.5        2.36           0.0   \n",
      "8            1.0         36.0    0.5      0.5        7.96           0.0   \n",
      "9            1.0         19.5    0.5      0.5        4.66           0.0   \n",
      "10           1.0         15.5    0.5      0.5        3.86           0.0   \n",
      "\n",
      "    improvement_surcharge  total_amount  congestion_surcharge pickup_date  \\\n",
      "5                     0.3         39.96                   2.5       09-01   \n",
      "7                     0.3         14.16                   2.5       09-01   \n",
      "8                     0.3         47.76                   2.5       09-01   \n",
      "9                     0.3         27.96                   2.5       09-01   \n",
      "10                    0.3         23.16                   2.5       09-01   \n",
      "\n",
      "   pickup_time  \n",
      "5      00:00:0  \n",
      "7      00:17:2  \n",
      "8      00:36:1  \n",
      "9      00:10:4  \n",
      "10     00:16:2  \n"
     ]
    }
   ],
   "source": [
    "cleaned19[\"pickup_date\"] = cleaned19[\"tpep_pickup_datetime\"].str[5:10]\n",
    "cleaned19[\"pickup_time\"] = cleaned19[\"tpep_pickup_datetime\"].str[11:18]\n",
    "print(cleaned19.head())"
   ]
  },
  {
   "cell_type": "code",
   "execution_count": 14,
   "metadata": {},
   "outputs": [],
   "source": [
    "cleaned19.reset_index().to_pickle('C:/Users/ellicng/Desktop/Kexin_Taxi/yellow_cleaned19.pkl')"
   ]
  }
 ],
 "metadata": {
  "kernelspec": {
   "display_name": "Python 3",
   "language": "python",
   "name": "python3"
  },
  "language_info": {
   "codemirror_mode": {
    "name": "ipython",
    "version": 3
   },
   "file_extension": ".py",
   "mimetype": "text/x-python",
   "name": "python",
   "nbconvert_exporter": "python",
   "pygments_lexer": "ipython3",
   "version": "3.7.1"
  }
 },
 "nbformat": 4,
 "nbformat_minor": 4
}
